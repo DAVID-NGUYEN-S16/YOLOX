{
 "cells": [
  {
   "cell_type": "code",
   "execution_count": 1,
   "metadata": {},
   "outputs": [],
   "source": [
    "import pandas as pd\n",
    "import os\n",
    "import glob"
   ]
  },
  {
   "cell_type": "code",
   "execution_count": 4,
   "metadata": {},
   "outputs": [
    {
     "data": {
      "text/plain": [
       "1137"
      ]
     },
     "execution_count": 4,
     "metadata": {},
     "output_type": "execute_result"
    }
   ],
   "source": [
    "meta = pd.read_csv(\"E:\\WORKBASE\\Project-rsna-breast-cancer-detection\\DATA_STANDARD\\DDSM.csv\")\n",
    "len(meta.patient_id.unique())"
   ]
  },
  {
   "cell_type": "code",
   "execution_count": 2,
   "metadata": {},
   "outputs": [],
   "source": [
    "import cv2\n",
    "import imageio"
   ]
  },
  {
   "cell_type": "code",
   "execution_count": 3,
   "metadata": {},
   "outputs": [
    {
     "data": {
      "text/plain": [
       "'python tools/demo.py image -f exps/default/yolox_s -c best_ckpt.pth --path E:/WORKBASE/Project-rsna-breast-cancer-detection/DATA_STANDARD/DDSM.csv --conf 0.8 --nms 0.65 --tsize 416 --save_result --device gpu'"
      ]
     },
     "execution_count": 3,
     "metadata": {},
     "output_type": "execute_result"
    }
   ],
   "source": [
    "s = f'python tools/demo.py image -f exps/default/yolox_s -c best_ckpt.pth --path E:/WORKBASE/Project-rsna-breast-cancer-detection/DATA_STANDARD/DDSM.csv --conf 0.8 --nms 0.65 --tsize 416 --save_result --device gpu'\n",
    "s"
   ]
  },
  {
   "cell_type": "code",
   "execution_count": null,
   "metadata": {},
   "outputs": [],
   "source": []
  },
  {
   "cell_type": "code",
   "execution_count": 5,
   "metadata": {},
   "outputs": [
    {
     "name": "stdout",
     "output_type": "stream",
     "text": [
      "Time load weight model: 1.394 s\n",
      "Total time in E:/WORKBASE/Project-rsna-breast-cancer-detection/DATA_STANDARD/DDSM/CC_530.png = 2.9096570014953613\n",
      "Total time in E:/WORKBASE/Project-rsna-breast-cancer-detection/DATA_STANDARD/DDSM/CC_1730.png = 0.12697315216064453\n",
      "Total time in E:/WORKBASE/Project-rsna-breast-cancer-detection/DATA_STANDARD/DDSM/CC_1010.png = 0.16791200637817383\n",
      "Total time in E:/WORKBASE/Project-rsna-breast-cancer-detection/DATA_STANDARD/DDSM/MLO_1149.png = 0.1995840072631836\n",
      "Total time in E:/WORKBASE/Project-rsna-breast-cancer-detection/DATA_STANDARD/DDSM/MLO_1383.png = 0.23999977111816406\n",
      "Total time in E:/WORKBASE/Project-rsna-breast-cancer-detection/DATA_STANDARD/DDSM/CC_4914.png = 0.16291117668151855\n",
      "Total time in E:/WORKBASE/Project-rsna-breast-cancer-detection/DATA_STANDARD/DDSM/MLO_4381.png = 0.283038854598999\n",
      "Total time in E:/WORKBASE/Project-rsna-breast-cancer-detection/DATA_STANDARD/DDSM/CC_2978.png = 0.12999939918518066\n",
      "Total time in E:/WORKBASE/Project-rsna-breast-cancer-detection/DATA_STANDARD/DDSM/CC_3970.png = 0.1558060646057129\n",
      "Total time in E:/WORKBASE/Project-rsna-breast-cancer-detection/DATA_STANDARD/DDSM/CC_1864.png = 0.13042736053466797\n",
      "Total time in E:/WORKBASE/Project-rsna-breast-cancer-detection/DATA_STANDARD/DDSM/CC_2980.png = 0.15566492080688477\n",
      "Total time in E:/WORKBASE/Project-rsna-breast-cancer-detection/DATA_STANDARD/DDSM/MLO_3909.png = 0.1811830997467041\n",
      "Total time in E:/WORKBASE/Project-rsna-breast-cancer-detection/DATA_STANDARD/DDSM/MLO_1721.png = 0.10294055938720703\n",
      "Total time in E:/WORKBASE/Project-rsna-breast-cancer-detection/DATA_STANDARD/DDSM/CC_3292.png = 0.10683250427246094\n",
      "Total time in E:/WORKBASE/Project-rsna-breast-cancer-detection/DATA_STANDARD/DDSM/MLO_3249.png = 0.20877718925476074\n",
      "Total time in E:/WORKBASE/Project-rsna-breast-cancer-detection/DATA_STANDARD/DDSM/CC_3320.png = 0.09917521476745605\n",
      "Total time in E:/WORKBASE/Project-rsna-breast-cancer-detection/DATA_STANDARD/DDSM/MLO_3801.png = 0.22269225120544434\n",
      "Total time in E:/WORKBASE/Project-rsna-breast-cancer-detection/DATA_STANDARD/DDSM/MLO_1025.png = 0.22714710235595703\n",
      "Total time in E:/WORKBASE/Project-rsna-breast-cancer-detection/DATA_STANDARD/DDSM/MLO_2181.png = 0.1025245189666748\n",
      "Total time in E:/WORKBASE/Project-rsna-breast-cancer-detection/DATA_STANDARD/DDSM/MLO_1615.png = 0.20255684852600098\n",
      "Mean time in a image = 0.3057901501655579\n"
     ]
    },
    {
     "name": "stderr",
     "output_type": "stream",
     "text": [
      "\u001b[32m2023-05-31 00:32:12.970\u001b[0m | \u001b[1mINFO    \u001b[0m | \u001b[36m__main__\u001b[0m:\u001b[36mmain\u001b[0m:\u001b[36m288\u001b[0m - \u001b[1mArgs: Namespace(demo='image', experiment_name='yolox_s', name=None, path='E:/WORKBASE/Project-rsna-breast-cancer-detection/DATA_STANDARD/DDSM.csv', camid=0, save_result=True, exp_file='exps/default/yolox_s', ckpt='best_ckpt.pth', device='gpu', conf=0.8, nms=0.65, tsize=416, fp16=False, legacy=False, fuse=False, trt=False)\u001b[0m\n",
      "\u001b[32m2023-05-31 00:32:13.164\u001b[0m | \u001b[1mINFO    \u001b[0m | \u001b[36m__main__\u001b[0m:\u001b[36mmain\u001b[0m:\u001b[36m298\u001b[0m - \u001b[1mModel Summary: Params: 8.95M, Gflops: 11.32\u001b[0m\n",
      "\u001b[32m2023-05-31 00:32:14.283\u001b[0m | \u001b[1mINFO    \u001b[0m | \u001b[36m__main__\u001b[0m:\u001b[36mmain\u001b[0m:\u001b[36m311\u001b[0m - \u001b[1mloading checkpoint\u001b[0m\n",
      "\u001b[32m2023-05-31 00:32:14.363\u001b[0m | \u001b[1mINFO    \u001b[0m | \u001b[36m__main__\u001b[0m:\u001b[36mmain\u001b[0m:\u001b[36m315\u001b[0m - \u001b[1mloaded checkpoint done.\u001b[0m\n",
      "\u001b[32m2023-05-31 00:32:14.364\u001b[0m | \u001b[1mINFO    \u001b[0m | \u001b[36m__main__\u001b[0m:\u001b[36mmain\u001b[0m:\u001b[36m340\u001b[0m - \u001b[1mTime load weight model: 1.394 s\u001b[0m\n",
      "\u001b[32m2023-05-31 00:32:17.232\u001b[0m | \u001b[1mINFO    \u001b[0m | \u001b[36m__main__\u001b[0m:\u001b[36mimage_demo\u001b[0m:\u001b[36m225\u001b[0m - \u001b[1mSaving detection result in E:/WORKBASE/Project-rsna-breast-cancer-detection/DATA_STANDARD/DDSM_check/CC_530.png\u001b[0m\n",
      "\u001b[32m2023-05-31 00:32:17.280\u001b[0m | \u001b[1mINFO    \u001b[0m | \u001b[36m__main__\u001b[0m:\u001b[36mmain\u001b[0m:\u001b[36m373\u001b[0m - \u001b[1mTotal time in E:/WORKBASE/Project-rsna-breast-cancer-detection/DATA_STANDARD/DDSM/CC_530.png = 2.9097s\u001b[0m\n",
      "\u001b[32m2023-05-31 00:32:17.349\u001b[0m | \u001b[1mINFO    \u001b[0m | \u001b[36m__main__\u001b[0m:\u001b[36mimage_demo\u001b[0m:\u001b[36m225\u001b[0m - \u001b[1mSaving detection result in E:/WORKBASE/Project-rsna-breast-cancer-detection/DATA_STANDARD/DDSM_check/CC_1730.png\u001b[0m\n",
      "\u001b[32m2023-05-31 00:32:17.408\u001b[0m | \u001b[1mINFO    \u001b[0m | \u001b[36m__main__\u001b[0m:\u001b[36mmain\u001b[0m:\u001b[36m373\u001b[0m - \u001b[1mTotal time in E:/WORKBASE/Project-rsna-breast-cancer-detection/DATA_STANDARD/DDSM/CC_1730.png = 0.1270s\u001b[0m\n",
      "\u001b[32m2023-05-31 00:32:17.494\u001b[0m | \u001b[1mINFO    \u001b[0m | \u001b[36m__main__\u001b[0m:\u001b[36mimage_demo\u001b[0m:\u001b[36m225\u001b[0m - \u001b[1mSaving detection result in E:/WORKBASE/Project-rsna-breast-cancer-detection/DATA_STANDARD/DDSM_check/CC_1010.png\u001b[0m\n",
      "\u001b[32m2023-05-31 00:32:17.576\u001b[0m | \u001b[1mINFO    \u001b[0m | \u001b[36m__main__\u001b[0m:\u001b[36mmain\u001b[0m:\u001b[36m373\u001b[0m - \u001b[1mTotal time in E:/WORKBASE/Project-rsna-breast-cancer-detection/DATA_STANDARD/DDSM/CC_1010.png = 0.1679s\u001b[0m\n",
      "\u001b[32m2023-05-31 00:32:17.671\u001b[0m | \u001b[1mINFO    \u001b[0m | \u001b[36m__main__\u001b[0m:\u001b[36mimage_demo\u001b[0m:\u001b[36m225\u001b[0m - \u001b[1mSaving detection result in E:/WORKBASE/Project-rsna-breast-cancer-detection/DATA_STANDARD/DDSM_check/MLO_1149.png\u001b[0m\n",
      "\u001b[32m2023-05-31 00:32:17.775\u001b[0m | \u001b[1mINFO    \u001b[0m | \u001b[36m__main__\u001b[0m:\u001b[36mmain\u001b[0m:\u001b[36m373\u001b[0m - \u001b[1mTotal time in E:/WORKBASE/Project-rsna-breast-cancer-detection/DATA_STANDARD/DDSM/MLO_1149.png = 0.1996s\u001b[0m\n",
      "\u001b[32m2023-05-31 00:32:17.886\u001b[0m | \u001b[1mINFO    \u001b[0m | \u001b[36m__main__\u001b[0m:\u001b[36mimage_demo\u001b[0m:\u001b[36m225\u001b[0m - \u001b[1mSaving detection result in E:/WORKBASE/Project-rsna-breast-cancer-detection/DATA_STANDARD/DDSM_check/MLO_1383.png\u001b[0m\n",
      "\u001b[32m2023-05-31 00:32:18.015\u001b[0m | \u001b[1mINFO    \u001b[0m | \u001b[36m__main__\u001b[0m:\u001b[36mmain\u001b[0m:\u001b[36m373\u001b[0m - \u001b[1mTotal time in E:/WORKBASE/Project-rsna-breast-cancer-detection/DATA_STANDARD/DDSM/MLO_1383.png = 0.2400s\u001b[0m\n",
      "\u001b[32m2023-05-31 00:32:18.110\u001b[0m | \u001b[1mINFO    \u001b[0m | \u001b[36m__main__\u001b[0m:\u001b[36mimage_demo\u001b[0m:\u001b[36m225\u001b[0m - \u001b[1mSaving detection result in E:/WORKBASE/Project-rsna-breast-cancer-detection/DATA_STANDARD/DDSM_check/CC_4914.png\u001b[0m\n",
      "\u001b[32m2023-05-31 00:32:18.178\u001b[0m | \u001b[1mINFO    \u001b[0m | \u001b[36m__main__\u001b[0m:\u001b[36mmain\u001b[0m:\u001b[36m373\u001b[0m - \u001b[1mTotal time in E:/WORKBASE/Project-rsna-breast-cancer-detection/DATA_STANDARD/DDSM/CC_4914.png = 0.1629s\u001b[0m\n",
      "\u001b[32m2023-05-31 00:32:18.285\u001b[0m | \u001b[1mINFO    \u001b[0m | \u001b[36m__main__\u001b[0m:\u001b[36mimage_demo\u001b[0m:\u001b[36m225\u001b[0m - \u001b[1mSaving detection result in E:/WORKBASE/Project-rsna-breast-cancer-detection/DATA_STANDARD/DDSM_check/MLO_4381.png\u001b[0m\n",
      "\u001b[32m2023-05-31 00:32:18.461\u001b[0m | \u001b[1mINFO    \u001b[0m | \u001b[36m__main__\u001b[0m:\u001b[36mmain\u001b[0m:\u001b[36m373\u001b[0m - \u001b[1mTotal time in E:/WORKBASE/Project-rsna-breast-cancer-detection/DATA_STANDARD/DDSM/MLO_4381.png = 0.2830s\u001b[0m\n",
      "\u001b[32m2023-05-31 00:32:18.531\u001b[0m | \u001b[1mINFO    \u001b[0m | \u001b[36m__main__\u001b[0m:\u001b[36mimage_demo\u001b[0m:\u001b[36m225\u001b[0m - \u001b[1mSaving detection result in E:/WORKBASE/Project-rsna-breast-cancer-detection/DATA_STANDARD/DDSM_check/CC_2978.png\u001b[0m\n",
      "\u001b[32m2023-05-31 00:32:18.591\u001b[0m | \u001b[1mINFO    \u001b[0m | \u001b[36m__main__\u001b[0m:\u001b[36mmain\u001b[0m:\u001b[36m373\u001b[0m - \u001b[1mTotal time in E:/WORKBASE/Project-rsna-breast-cancer-detection/DATA_STANDARD/DDSM/CC_2978.png = 0.1300s\u001b[0m\n",
      "\u001b[32m2023-05-31 00:32:18.660\u001b[0m | \u001b[1mINFO    \u001b[0m | \u001b[36m__main__\u001b[0m:\u001b[36mimage_demo\u001b[0m:\u001b[36m225\u001b[0m - \u001b[1mSaving detection result in E:/WORKBASE/Project-rsna-breast-cancer-detection/DATA_STANDARD/DDSM_check/CC_3970.png\u001b[0m\n",
      "\u001b[32m2023-05-31 00:32:18.747\u001b[0m | \u001b[1mINFO    \u001b[0m | \u001b[36m__main__\u001b[0m:\u001b[36mmain\u001b[0m:\u001b[36m373\u001b[0m - \u001b[1mTotal time in E:/WORKBASE/Project-rsna-breast-cancer-detection/DATA_STANDARD/DDSM/CC_3970.png = 0.1558s\u001b[0m\n",
      "\u001b[32m2023-05-31 00:32:18.834\u001b[0m | \u001b[1mINFO    \u001b[0m | \u001b[36m__main__\u001b[0m:\u001b[36mimage_demo\u001b[0m:\u001b[36m225\u001b[0m - \u001b[1mSaving detection result in E:/WORKBASE/Project-rsna-breast-cancer-detection/DATA_STANDARD/DDSM_check/CC_1864.png\u001b[0m\n",
      "\u001b[32m2023-05-31 00:32:18.878\u001b[0m | \u001b[1mINFO    \u001b[0m | \u001b[36m__main__\u001b[0m:\u001b[36mmain\u001b[0m:\u001b[36m373\u001b[0m - \u001b[1mTotal time in E:/WORKBASE/Project-rsna-breast-cancer-detection/DATA_STANDARD/DDSM/CC_1864.png = 0.1304s\u001b[0m\n",
      "\u001b[32m2023-05-31 00:32:18.953\u001b[0m | \u001b[1mINFO    \u001b[0m | \u001b[36m__main__\u001b[0m:\u001b[36mimage_demo\u001b[0m:\u001b[36m225\u001b[0m - \u001b[1mSaving detection result in E:/WORKBASE/Project-rsna-breast-cancer-detection/DATA_STANDARD/DDSM_check/CC_2980.png\u001b[0m\n",
      "\u001b[32m2023-05-31 00:32:19.033\u001b[0m | \u001b[1mINFO    \u001b[0m | \u001b[36m__main__\u001b[0m:\u001b[36mmain\u001b[0m:\u001b[36m373\u001b[0m - \u001b[1mTotal time in E:/WORKBASE/Project-rsna-breast-cancer-detection/DATA_STANDARD/DDSM/CC_2980.png = 0.1557s\u001b[0m\n",
      "\u001b[32m2023-05-31 00:32:19.114\u001b[0m | \u001b[1mINFO    \u001b[0m | \u001b[36m__main__\u001b[0m:\u001b[36mimage_demo\u001b[0m:\u001b[36m225\u001b[0m - \u001b[1mSaving detection result in E:/WORKBASE/Project-rsna-breast-cancer-detection/DATA_STANDARD/DDSM_check/MLO_3909.png\u001b[0m\n",
      "\u001b[32m2023-05-31 00:32:19.214\u001b[0m | \u001b[1mINFO    \u001b[0m | \u001b[36m__main__\u001b[0m:\u001b[36mmain\u001b[0m:\u001b[36m373\u001b[0m - \u001b[1mTotal time in E:/WORKBASE/Project-rsna-breast-cancer-detection/DATA_STANDARD/DDSM/MLO_3909.png = 0.1812s\u001b[0m\n",
      "\u001b[32m2023-05-31 00:32:19.270\u001b[0m | \u001b[1mINFO    \u001b[0m | \u001b[36m__main__\u001b[0m:\u001b[36mimage_demo\u001b[0m:\u001b[36m225\u001b[0m - \u001b[1mSaving detection result in E:/WORKBASE/Project-rsna-breast-cancer-detection/DATA_STANDARD/DDSM_check/MLO_1721.png\u001b[0m\n",
      "\u001b[32m2023-05-31 00:32:19.318\u001b[0m | \u001b[1mINFO    \u001b[0m | \u001b[36m__main__\u001b[0m:\u001b[36mmain\u001b[0m:\u001b[36m373\u001b[0m - \u001b[1mTotal time in E:/WORKBASE/Project-rsna-breast-cancer-detection/DATA_STANDARD/DDSM/MLO_1721.png = 0.1039s\u001b[0m\n",
      "\u001b[32m2023-05-31 00:32:19.376\u001b[0m | \u001b[1mINFO    \u001b[0m | \u001b[36m__main__\u001b[0m:\u001b[36mimage_demo\u001b[0m:\u001b[36m225\u001b[0m - \u001b[1mSaving detection result in E:/WORKBASE/Project-rsna-breast-cancer-detection/DATA_STANDARD/DDSM_check/CC_3292.png\u001b[0m\n",
      "\u001b[32m2023-05-31 00:32:19.425\u001b[0m | \u001b[1mINFO    \u001b[0m | \u001b[36m__main__\u001b[0m:\u001b[36mmain\u001b[0m:\u001b[36m373\u001b[0m - \u001b[1mTotal time in E:/WORKBASE/Project-rsna-breast-cancer-detection/DATA_STANDARD/DDSM/CC_3292.png = 0.1068s\u001b[0m\n",
      "\u001b[32m2023-05-31 00:32:19.509\u001b[0m | \u001b[1mINFO    \u001b[0m | \u001b[36m__main__\u001b[0m:\u001b[36mimage_demo\u001b[0m:\u001b[36m225\u001b[0m - \u001b[1mSaving detection result in E:/WORKBASE/Project-rsna-breast-cancer-detection/DATA_STANDARD/DDSM_check/MLO_3249.png\u001b[0m\n",
      "\u001b[32m2023-05-31 00:32:19.634\u001b[0m | \u001b[1mINFO    \u001b[0m | \u001b[36m__main__\u001b[0m:\u001b[36mmain\u001b[0m:\u001b[36m373\u001b[0m - \u001b[1mTotal time in E:/WORKBASE/Project-rsna-breast-cancer-detection/DATA_STANDARD/DDSM/MLO_3249.png = 0.2088s\u001b[0m\n",
      "\u001b[32m2023-05-31 00:32:19.687\u001b[0m | \u001b[1mINFO    \u001b[0m | \u001b[36m__main__\u001b[0m:\u001b[36mimage_demo\u001b[0m:\u001b[36m225\u001b[0m - \u001b[1mSaving detection result in E:/WORKBASE/Project-rsna-breast-cancer-detection/DATA_STANDARD/DDSM_check/CC_3320.png\u001b[0m\n",
      "\u001b[32m2023-05-31 00:32:19.733\u001b[0m | \u001b[1mINFO    \u001b[0m | \u001b[36m__main__\u001b[0m:\u001b[36mmain\u001b[0m:\u001b[36m373\u001b[0m - \u001b[1mTotal time in E:/WORKBASE/Project-rsna-breast-cancer-detection/DATA_STANDARD/DDSM/CC_3320.png = 0.0992s\u001b[0m\n",
      "\u001b[32m2023-05-31 00:32:19.822\u001b[0m | \u001b[1mINFO    \u001b[0m | \u001b[36m__main__\u001b[0m:\u001b[36mimage_demo\u001b[0m:\u001b[36m225\u001b[0m - \u001b[1mSaving detection result in E:/WORKBASE/Project-rsna-breast-cancer-detection/DATA_STANDARD/DDSM_check/MLO_3801.png\u001b[0m\n",
      "\u001b[32m2023-05-31 00:32:19.956\u001b[0m | \u001b[1mINFO    \u001b[0m | \u001b[36m__main__\u001b[0m:\u001b[36mmain\u001b[0m:\u001b[36m373\u001b[0m - \u001b[1mTotal time in E:/WORKBASE/Project-rsna-breast-cancer-detection/DATA_STANDARD/DDSM/MLO_3801.png = 0.2227s\u001b[0m\n",
      "\u001b[32m2023-05-31 00:32:20.064\u001b[0m | \u001b[1mINFO    \u001b[0m | \u001b[36m__main__\u001b[0m:\u001b[36mimage_demo\u001b[0m:\u001b[36m225\u001b[0m - \u001b[1mSaving detection result in E:/WORKBASE/Project-rsna-breast-cancer-detection/DATA_STANDARD/DDSM_check/MLO_1025.png\u001b[0m\n",
      "\u001b[32m2023-05-31 00:32:20.183\u001b[0m | \u001b[1mINFO    \u001b[0m | \u001b[36m__main__\u001b[0m:\u001b[36mmain\u001b[0m:\u001b[36m373\u001b[0m - \u001b[1mTotal time in E:/WORKBASE/Project-rsna-breast-cancer-detection/DATA_STANDARD/DDSM/MLO_1025.png = 0.2271s\u001b[0m\n",
      "\u001b[32m2023-05-31 00:32:20.250\u001b[0m | \u001b[1mINFO    \u001b[0m | \u001b[36m__main__\u001b[0m:\u001b[36mimage_demo\u001b[0m:\u001b[36m225\u001b[0m - \u001b[1mSaving detection result in E:/WORKBASE/Project-rsna-breast-cancer-detection/DATA_STANDARD/DDSM_check/MLO_2181.png\u001b[0m\n",
      "\u001b[32m2023-05-31 00:32:20.286\u001b[0m | \u001b[1mINFO    \u001b[0m | \u001b[36m__main__\u001b[0m:\u001b[36mmain\u001b[0m:\u001b[36m373\u001b[0m - \u001b[1mTotal time in E:/WORKBASE/Project-rsna-breast-cancer-detection/DATA_STANDARD/DDSM/MLO_2181.png = 0.1025s\u001b[0m\n",
      "\u001b[32m2023-05-31 00:32:20.375\u001b[0m | \u001b[1mINFO    \u001b[0m | \u001b[36m__main__\u001b[0m:\u001b[36mimage_demo\u001b[0m:\u001b[36m225\u001b[0m - \u001b[1mSaving detection result in E:/WORKBASE/Project-rsna-breast-cancer-detection/DATA_STANDARD/DDSM_check/MLO_1615.png\u001b[0m\n",
      "\u001b[32m2023-05-31 00:32:20.488\u001b[0m | \u001b[1mINFO    \u001b[0m | \u001b[36m__main__\u001b[0m:\u001b[36mmain\u001b[0m:\u001b[36m373\u001b[0m - \u001b[1mTotal time in E:/WORKBASE/Project-rsna-breast-cancer-detection/DATA_STANDARD/DDSM/MLO_1615.png = 0.2026s\u001b[0m\n"
     ]
    }
   ],
   "source": [
    "!{s}"
   ]
  },
  {
   "cell_type": "code",
   "execution_count": 134,
   "metadata": {},
   "outputs": [],
   "source": [
    "import cv2\n",
    "import pydicom\n",
    "import numpy as np\n",
    "from pydicom.pixel_data_handlers import apply_windowing\n",
    "import imageio\n",
    "import multiprocessing as mp\n",
    "import glob\n",
    "import os\n",
    "\n",
    "from scipy import stats as sst\n",
    "from scipy import stats as sst"
   ]
  },
  {
   "cell_type": "code",
   "execution_count": 135,
   "metadata": {},
   "outputs": [],
   "source": [
    "def procees_dcm(path):\n",
    "    \n",
    "    dicom = pydicom.dcmread(path)\n",
    "\n",
    "    img = dicom.pixel_array\n",
    "\n",
    "        \n",
    "    img = apply_windowing(img, dicom)\n",
    "    img = (img - img.min()) / (img.max() - img.min())\n",
    "\n",
    "    if dicom.PhotometricInterpretation == \"MONOCHROME1\":  \n",
    "        img = 1 - img\n",
    "    image = np.uint8(img * 255)\n",
    "    return image"
   ]
  },
  {
   "cell_type": "code",
   "execution_count": 136,
   "metadata": {},
   "outputs": [],
   "source": [
    "img = procees_dcm(r\"E:\\WORKBASE\\Project-rsna-breast-cancer-detection\\TheChineseMammographyDatabase\\TheChineseMammographyDatabase\\CMMD\\D1-0725\\07-18-2010-NA-NA-01810\\1.000000-NA-55155\\1-2.dcm\")"
   ]
  },
  {
   "cell_type": "code",
   "execution_count": null,
   "metadata": {},
   "outputs": [],
   "source": []
  }
 ],
 "metadata": {
  "kernelspec": {
   "display_name": "Python 3",
   "language": "python",
   "name": "python3"
  },
  "language_info": {
   "codemirror_mode": {
    "name": "ipython",
    "version": 3
   },
   "file_extension": ".py",
   "mimetype": "text/x-python",
   "name": "python",
   "nbconvert_exporter": "python",
   "pygments_lexer": "ipython3",
   "version": "3.10.4"
  },
  "orig_nbformat": 4
 },
 "nbformat": 4,
 "nbformat_minor": 2
}
